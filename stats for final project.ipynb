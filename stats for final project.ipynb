{
 "cells": [
  {
   "cell_type": "code",
   "execution_count": 97,
   "metadata": {},
   "outputs": [],
   "source": [
    "import pandas as pd\n",
    "import numpy as np\n",
    "from scipy import stats\n"
   ]
  },
  {
   "cell_type": "code",
   "execution_count": 98,
   "metadata": {},
   "outputs": [
    {
     "name": "stderr",
     "output_type": "stream",
     "text": [
      "<>:1: SyntaxWarning:\n",
      "\n",
      "invalid escape sequence '\\C'\n",
      "\n",
      "<>:1: SyntaxWarning:\n",
      "\n",
      "invalid escape sequence '\\C'\n",
      "\n",
      "C:\\Users\\chabi\\AppData\\Local\\Temp\\ipykernel_31712\\4266467881.py:1: SyntaxWarning:\n",
      "\n",
      "invalid escape sequence '\\C'\n",
      "\n"
     ]
    }
   ],
   "source": [
    "df =pd.read_csv('C:\\\\Users\\\\chabi\\\\Downloads\\\\אמנות\\Churn_table (1).csv')\n",
    "pd.set_option('display.max_rows', None)\n",
    "pd.set_option('display.max_columns', None)\n",
    "pd.set_option('display.width', None)\n",
    "pd.set_option('display.max_colwidth', None)\n"
   ]
  },
  {
   "cell_type": "code",
   "execution_count": 99,
   "metadata": {},
   "outputs": [],
   "source": [
    "df['Attrition_Flag'] = df['Attrition_Flag'].map({'Existing Customer': 0, 'Attrited Customer': 1})"
   ]
  },
  {
   "cell_type": "code",
   "execution_count": 100,
   "metadata": {},
   "outputs": [],
   "source": [
    "# First, create age bins\n",
    "def categorize_age(age):\n",
    "    if 26 <= age <= 40:\n",
    "        return 'Young Adults'\n",
    "    elif 41 <= age <= 55:\n",
    "        return 'Middle-Aged Adults'\n",
    "    elif 56 <= age <= 73:\n",
    "        return 'Older Adults'\n",
    "    else:\n",
    "        return 'Other'\n",
    "\n",
    "# Create the age categories\n",
    "df['Age_Category'] = df['Customer_Age'].apply(categorize_age)"
   ]
  },
  {
   "cell_type": "code",
   "execution_count": 101,
   "metadata": {},
   "outputs": [
    {
     "data": {
      "text/html": [
       "<div>\n",
       "<style scoped>\n",
       "    .dataframe tbody tr th:only-of-type {\n",
       "        vertical-align: middle;\n",
       "    }\n",
       "\n",
       "    .dataframe tbody tr th {\n",
       "        vertical-align: top;\n",
       "    }\n",
       "\n",
       "    .dataframe thead th {\n",
       "        text-align: right;\n",
       "    }\n",
       "</style>\n",
       "<table border=\"1\" class=\"dataframe\">\n",
       "  <thead>\n",
       "    <tr style=\"text-align: right;\">\n",
       "      <th></th>\n",
       "      <th>CLIENTNUM</th>\n",
       "      <th>Attrition_Flag</th>\n",
       "      <th>Customer_Age</th>\n",
       "      <th>Gender</th>\n",
       "      <th>Dependent_count</th>\n",
       "      <th>Education_Level</th>\n",
       "      <th>Marital_Status</th>\n",
       "      <th>Income_Category</th>\n",
       "      <th>Card_Category</th>\n",
       "      <th>Months_on_book</th>\n",
       "      <th>Total_Relationship_Count</th>\n",
       "      <th>Months_Inactive_12_mon</th>\n",
       "      <th>Contacts_Count_12_mon</th>\n",
       "      <th>Credit_Limit</th>\n",
       "      <th>Total_Revolving_Bal</th>\n",
       "      <th>Avg_Open_To_Buy</th>\n",
       "      <th>Total_Amt_Chng_Q4_Q1</th>\n",
       "      <th>Total_Trans_Amt</th>\n",
       "      <th>Total_Trans_Ct</th>\n",
       "      <th>Total_Ct_Chng_Q4_Q1</th>\n",
       "      <th>Avg_Utilization_Ratio</th>\n",
       "      <th>Attrition_Binary</th>\n",
       "      <th>Age_Category</th>\n",
       "    </tr>\n",
       "  </thead>\n",
       "  <tbody>\n",
       "    <tr>\n",
       "      <th>0</th>\n",
       "      <td>768805383</td>\n",
       "      <td>0</td>\n",
       "      <td>45</td>\n",
       "      <td>M</td>\n",
       "      <td>3</td>\n",
       "      <td>High School</td>\n",
       "      <td>Married</td>\n",
       "      <td>$60K - $80K</td>\n",
       "      <td>Blue</td>\n",
       "      <td>39</td>\n",
       "      <td>5</td>\n",
       "      <td>1</td>\n",
       "      <td>3</td>\n",
       "      <td>12691.0</td>\n",
       "      <td>777</td>\n",
       "      <td>11914.0</td>\n",
       "      <td>1.335</td>\n",
       "      <td>1144</td>\n",
       "      <td>42</td>\n",
       "      <td>1.625</td>\n",
       "      <td>0.061</td>\n",
       "      <td>0</td>\n",
       "      <td>Middle-Aged Adults</td>\n",
       "    </tr>\n",
       "    <tr>\n",
       "      <th>1</th>\n",
       "      <td>818770008</td>\n",
       "      <td>0</td>\n",
       "      <td>49</td>\n",
       "      <td>F</td>\n",
       "      <td>5</td>\n",
       "      <td>Graduate</td>\n",
       "      <td>Single</td>\n",
       "      <td>Less than $40K</td>\n",
       "      <td>Blue</td>\n",
       "      <td>44</td>\n",
       "      <td>6</td>\n",
       "      <td>1</td>\n",
       "      <td>2</td>\n",
       "      <td>8256.0</td>\n",
       "      <td>864</td>\n",
       "      <td>7392.0</td>\n",
       "      <td>1.541</td>\n",
       "      <td>1291</td>\n",
       "      <td>33</td>\n",
       "      <td>3.714</td>\n",
       "      <td>0.105</td>\n",
       "      <td>0</td>\n",
       "      <td>Middle-Aged Adults</td>\n",
       "    </tr>\n",
       "    <tr>\n",
       "      <th>2</th>\n",
       "      <td>713982108</td>\n",
       "      <td>0</td>\n",
       "      <td>51</td>\n",
       "      <td>M</td>\n",
       "      <td>3</td>\n",
       "      <td>Graduate</td>\n",
       "      <td>Married</td>\n",
       "      <td>$80K - $120K</td>\n",
       "      <td>Blue</td>\n",
       "      <td>36</td>\n",
       "      <td>4</td>\n",
       "      <td>1</td>\n",
       "      <td>0</td>\n",
       "      <td>3418.0</td>\n",
       "      <td>0</td>\n",
       "      <td>3418.0</td>\n",
       "      <td>2.594</td>\n",
       "      <td>1887</td>\n",
       "      <td>20</td>\n",
       "      <td>2.333</td>\n",
       "      <td>0.000</td>\n",
       "      <td>0</td>\n",
       "      <td>Middle-Aged Adults</td>\n",
       "    </tr>\n",
       "    <tr>\n",
       "      <th>3</th>\n",
       "      <td>769911858</td>\n",
       "      <td>0</td>\n",
       "      <td>40</td>\n",
       "      <td>F</td>\n",
       "      <td>4</td>\n",
       "      <td>High School</td>\n",
       "      <td>Unknown</td>\n",
       "      <td>Less than $40K</td>\n",
       "      <td>Blue</td>\n",
       "      <td>34</td>\n",
       "      <td>3</td>\n",
       "      <td>4</td>\n",
       "      <td>1</td>\n",
       "      <td>3313.0</td>\n",
       "      <td>2517</td>\n",
       "      <td>796.0</td>\n",
       "      <td>1.405</td>\n",
       "      <td>1171</td>\n",
       "      <td>20</td>\n",
       "      <td>2.333</td>\n",
       "      <td>0.760</td>\n",
       "      <td>0</td>\n",
       "      <td>Young Adults</td>\n",
       "    </tr>\n",
       "    <tr>\n",
       "      <th>4</th>\n",
       "      <td>709106358</td>\n",
       "      <td>0</td>\n",
       "      <td>40</td>\n",
       "      <td>M</td>\n",
       "      <td>3</td>\n",
       "      <td>Uneducated</td>\n",
       "      <td>Married</td>\n",
       "      <td>$60K - $80K</td>\n",
       "      <td>Blue</td>\n",
       "      <td>21</td>\n",
       "      <td>5</td>\n",
       "      <td>1</td>\n",
       "      <td>0</td>\n",
       "      <td>4716.0</td>\n",
       "      <td>0</td>\n",
       "      <td>4716.0</td>\n",
       "      <td>2.175</td>\n",
       "      <td>816</td>\n",
       "      <td>28</td>\n",
       "      <td>2.500</td>\n",
       "      <td>0.000</td>\n",
       "      <td>0</td>\n",
       "      <td>Young Adults</td>\n",
       "    </tr>\n",
       "  </tbody>\n",
       "</table>\n",
       "</div>"
      ],
      "text/plain": [
       "   CLIENTNUM  Attrition_Flag  Customer_Age Gender  Dependent_count  \\\n",
       "0  768805383               0            45      M                3   \n",
       "1  818770008               0            49      F                5   \n",
       "2  713982108               0            51      M                3   \n",
       "3  769911858               0            40      F                4   \n",
       "4  709106358               0            40      M                3   \n",
       "\n",
       "  Education_Level Marital_Status Income_Category Card_Category  \\\n",
       "0     High School        Married     $60K - $80K          Blue   \n",
       "1        Graduate         Single  Less than $40K          Blue   \n",
       "2        Graduate        Married    $80K - $120K          Blue   \n",
       "3     High School        Unknown  Less than $40K          Blue   \n",
       "4      Uneducated        Married     $60K - $80K          Blue   \n",
       "\n",
       "   Months_on_book  Total_Relationship_Count  Months_Inactive_12_mon  \\\n",
       "0              39                         5                       1   \n",
       "1              44                         6                       1   \n",
       "2              36                         4                       1   \n",
       "3              34                         3                       4   \n",
       "4              21                         5                       1   \n",
       "\n",
       "   Contacts_Count_12_mon  Credit_Limit  Total_Revolving_Bal  Avg_Open_To_Buy  \\\n",
       "0                      3       12691.0                  777          11914.0   \n",
       "1                      2        8256.0                  864           7392.0   \n",
       "2                      0        3418.0                    0           3418.0   \n",
       "3                      1        3313.0                 2517            796.0   \n",
       "4                      0        4716.0                    0           4716.0   \n",
       "\n",
       "   Total_Amt_Chng_Q4_Q1  Total_Trans_Amt  Total_Trans_Ct  Total_Ct_Chng_Q4_Q1  \\\n",
       "0                 1.335             1144              42                1.625   \n",
       "1                 1.541             1291              33                3.714   \n",
       "2                 2.594             1887              20                2.333   \n",
       "3                 1.405             1171              20                2.333   \n",
       "4                 2.175              816              28                2.500   \n",
       "\n",
       "   Avg_Utilization_Ratio  Attrition_Binary        Age_Category  \n",
       "0                  0.061                 0  Middle-Aged Adults  \n",
       "1                  0.105                 0  Middle-Aged Adults  \n",
       "2                  0.000                 0  Middle-Aged Adults  \n",
       "3                  0.760                 0        Young Adults  \n",
       "4                  0.000                 0        Young Adults  "
      ]
     },
     "execution_count": 101,
     "metadata": {},
     "output_type": "execute_result"
    }
   ],
   "source": [
    "df.head()"
   ]
  },
  {
   "cell_type": "code",
   "execution_count": 102,
   "metadata": {},
   "outputs": [],
   "source": [
    "numerical_cols = ['Credit_Limit', 'Total_Revolving_Bal', 'Avg_Open_To_Buy', \n",
    "                 'Total_Trans_Amt', 'Total_Trans_Ct',\n",
    "                 'Total_Amt_Chng_Q4_Q1', 'Total_Ct_Chng_Q4_Q1', 'Avg_Utilization_Ratio']\n",
    "\n",
    "labels = ['Very Low', 'Low', 'Medium Low', 'Medium High', 'High', 'Very High']\n",
    "\n",
    "for col in numerical_cols:\n",
    "    \n",
    "    df[f'{col}_binned'] = pd.cut(df[col], bins=6, labels=labels)\n",
    "    \n",
    "    "
   ]
  },
  {
   "cell_type": "code",
   "execution_count": 103,
   "metadata": {},
   "outputs": [
    {
     "name": "stdout",
     "output_type": "stream",
     "text": [
      "\n",
      "=== Chi-square test for Gender ===\n",
      "\n",
      "Contingency Table:\n",
      "Attrition_Flag     0    1\n",
      "Gender                   \n",
      "F               4428  930\n",
      "M               4072  697\n",
      "\n",
      "Chi-square statistic: 13.8656\n",
      "p-value: 1.9636e-04\n",
      "Degrees of freedom: 1\n",
      "Conclusion: There is a significant relationship (p < 0.05)\n",
      "\n",
      "=== Chi-square test for Education_Level ===\n",
      "\n",
      "Contingency Table:\n",
      "Attrition_Flag      0    1\n",
      "Education_Level           \n",
      "College           859  154\n",
      "Doctorate         356   95\n",
      "Graduate         2641  487\n",
      "High School      1707  306\n",
      "Post-Graduate     424   92\n",
      "Uneducated       1250  237\n",
      "Unknown          1263  256\n",
      "\n",
      "Chi-square statistic: 12.5112\n",
      "p-value: 5.1489e-02\n",
      "Degrees of freedom: 6\n",
      "Conclusion: No significant relationship (p >= 0.05)\n",
      "\n",
      "=== Chi-square test for Marital_Status ===\n",
      "\n",
      "Contingency Table:\n",
      "Attrition_Flag     0    1\n",
      "Marital_Status           \n",
      "Divorced         627  121\n",
      "Married         3978  709\n",
      "Single          3275  668\n",
      "Unknown          620  129\n",
      "\n",
      "Chi-square statistic: 6.0561\n",
      "p-value: 1.0891e-01\n",
      "Degrees of freedom: 3\n",
      "Conclusion: No significant relationship (p >= 0.05)\n",
      "\n",
      "=== Chi-square test for Contacts_Count_12_mon ===\n",
      "\n",
      "Contingency Table:\n",
      "Attrition_Flag            0    1\n",
      "Contacts_Count_12_mon           \n",
      "0                       392    7\n",
      "1                      1391  108\n",
      "2                      2824  403\n",
      "3                      2699  681\n",
      "4                      1077  315\n",
      "5                       117   59\n",
      "6                         0   54\n",
      "\n",
      "Chi-square statistic: 586.6385\n",
      "p-value: 1.7770e-123\n",
      "Degrees of freedom: 6\n",
      "Conclusion: There is a significant relationship (p < 0.05)\n",
      "\n",
      "=== Chi-square test for Months_Inactive_12_mon ===\n",
      "\n",
      "Contingency Table:\n",
      "Attrition_Flag             0    1\n",
      "Months_Inactive_12_mon           \n",
      "0                         14   15\n",
      "1                       2133  100\n",
      "2                       2777  505\n",
      "3                       3020  826\n",
      "4                        305  130\n",
      "5                        146   32\n",
      "6                        105   19\n",
      "\n",
      "Chi-square statistic: 396.4562\n",
      "p-value: 1.6155e-82\n",
      "Degrees of freedom: 6\n",
      "Conclusion: There is a significant relationship (p < 0.05)\n",
      "\n",
      "=== Chi-square test for Income_Category ===\n",
      "\n",
      "Contingency Table:\n",
      "Attrition_Flag      0    1\n",
      "Income_Category           \n",
      "$120K +           601  126\n",
      "$40K - $60K      1519  271\n",
      "$60K - $80K      1213  189\n",
      "$80K - $120K     1293  242\n",
      "Less than $40K   2949  612\n",
      "Unknown           925  187\n",
      "\n",
      "Chi-square statistic: 12.8323\n",
      "p-value: 2.5002e-02\n",
      "Degrees of freedom: 5\n",
      "Conclusion: There is a significant relationship (p < 0.05)\n",
      "\n",
      "=== Chi-square test for Card_Category ===\n",
      "\n",
      "Contingency Table:\n",
      "Attrition_Flag     0     1\n",
      "Card_Category             \n",
      "Blue            7917  1519\n",
      "Gold              95    21\n",
      "Platinum          15     5\n",
      "Silver           473    82\n",
      "\n",
      "Chi-square statistic: 2.2342\n",
      "p-value: 5.2524e-01\n",
      "Degrees of freedom: 3\n",
      "Conclusion: No significant relationship (p >= 0.05)\n",
      "\n",
      "=== Chi-square test for Age_Category ===\n",
      "\n",
      "Contingency Table:\n",
      "Attrition_Flag         0     1\n",
      "Age_Category                  \n",
      "Middle-Aged Adults  5325  1074\n",
      "Older Adults        1120   211\n",
      "Young Adults        2055   342\n",
      "\n",
      "Chi-square statistic: 8.2379\n",
      "p-value: 1.6262e-02\n",
      "Degrees of freedom: 2\n",
      "Conclusion: There is a significant relationship (p < 0.05)\n",
      "\n",
      "=== Chi-square test for Credit_Limit_binned ===\n",
      "\n",
      "Contingency Table:\n",
      "Attrition_Flag          0     1\n",
      "Credit_Limit_binned            \n",
      "Very Low             5264  1059\n",
      "Low                  1325   244\n",
      "Medium Low            655   115\n",
      "Medium High           413    48\n",
      "High                  251    43\n",
      "Very High             592   118\n",
      "\n",
      "Chi-square statistic: 14.7637\n",
      "p-value: 1.1421e-02\n",
      "Degrees of freedom: 5\n",
      "Conclusion: There is a significant relationship (p < 0.05)\n",
      "\n",
      "=== Chi-square test for Total_Revolving_Bal_binned ===\n",
      "\n",
      "Contingency Table:\n",
      "Attrition_Flag                 0    1\n",
      "Total_Revolving_Bal_binned           \n",
      "Very Low                    1577  969\n",
      "Low                          653  133\n",
      "Medium Low                  1536  111\n",
      "Medium High                 2046   89\n",
      "High                        1581   80\n",
      "Very High                   1107  245\n",
      "\n",
      "Chi-square statistic: 1404.1845\n",
      "p-value: 1.7064e-301\n",
      "Degrees of freedom: 5\n",
      "Conclusion: There is a significant relationship (p < 0.05)\n",
      "\n",
      "=== Chi-square test for Avg_Open_To_Buy_binned ===\n",
      "\n",
      "Contingency Table:\n",
      "Attrition_Flag             0     1\n",
      "Avg_Open_To_Buy_binned            \n",
      "Very Low                5282  1026\n",
      "Low                     1352   268\n",
      "Medium Low               661   123\n",
      "Medium High              422    52\n",
      "High                     229    41\n",
      "Very High                554   117\n",
      "\n",
      "Chi-square statistic: 10.7585\n",
      "p-value: 5.6383e-02\n",
      "Degrees of freedom: 5\n",
      "Conclusion: No significant relationship (p >= 0.05)\n",
      "\n",
      "=== Chi-square test for Total_Trans_Amt_binned ===\n",
      "\n",
      "Contingency Table:\n",
      "Attrition_Flag             0     1\n",
      "Total_Trans_Amt_binned            \n",
      "Very Low                3086  1311\n",
      "Low                     4190    99\n",
      "Medium Low               476   196\n",
      "Medium High               10    21\n",
      "High                     571     0\n",
      "Very High                167     0\n",
      "\n",
      "Chi-square statistic: 1506.6532\n",
      "p-value: 0.0000e+00\n",
      "Degrees of freedom: 5\n",
      "Conclusion: There is a significant relationship (p < 0.05)\n",
      "\n",
      "=== Chi-square test for Total_Trans_Ct_binned ===\n",
      "\n",
      "Contingency Table:\n",
      "Attrition_Flag            0     1\n",
      "Total_Trans_Ct_binned            \n",
      "Very Low                571   227\n",
      "Low                    1524  1047\n",
      "Medium Low             2782   281\n",
      "Medium High            2825    72\n",
      "High                    581     0\n",
      "Very High               217     0\n",
      "\n",
      "Chi-square statistic: 1906.7561\n",
      "p-value: 0.0000e+00\n",
      "Degrees of freedom: 5\n",
      "Conclusion: There is a significant relationship (p < 0.05)\n",
      "\n",
      "=== Chi-square test for Total_Amt_Chng_Q4_Q1_binned ===\n",
      "\n",
      "Contingency Table:\n",
      "Attrition_Flag                  0     1\n",
      "Total_Amt_Chng_Q4_Q1_binned            \n",
      "Very Low                      994   454\n",
      "Low                          7065  1165\n",
      "Medium Low                    392     8\n",
      "Medium High                    39     0\n",
      "High                            8     0\n",
      "Very High                       2     0\n",
      "\n",
      "Chi-square statistic: 341.3026\n",
      "p-value: 1.3045e-71\n",
      "Degrees of freedom: 5\n",
      "Conclusion: There is a significant relationship (p < 0.05)\n",
      "\n",
      "=== Chi-square test for Total_Ct_Chng_Q4_Q1_binned ===\n",
      "\n",
      "Contingency Table:\n",
      "Attrition_Flag                 0     1\n",
      "Total_Ct_Chng_Q4_Q1_binned            \n",
      "Very Low                    2177  1063\n",
      "Low                         6107   555\n",
      "Medium Low                   177     7\n",
      "Medium High                   28     1\n",
      "High                           7     1\n",
      "Very High                      4     0\n",
      "\n",
      "Chi-square statistic: 993.8928\n",
      "p-value: 1.2620e-212\n",
      "Degrees of freedom: 5\n",
      "Conclusion: There is a significant relationship (p < 0.05)\n",
      "\n",
      "=== Chi-square test for Avg_Utilization_Ratio_binned ===\n",
      "\n",
      "Contingency Table:\n",
      "Attrition_Flag                   0     1\n",
      "Avg_Utilization_Ratio_binned            \n",
      "Very Low                      3794  1147\n",
      "Low                           1387   163\n",
      "Medium Low                     996    89\n",
      "Medium High                   1170    78\n",
      "High                           902    80\n",
      "Very High                      251    70\n",
      "\n",
      "Chi-square statistic: 415.0549\n",
      "p-value: 1.6869e-87\n",
      "Degrees of freedom: 5\n",
      "Conclusion: There is a significant relationship (p < 0.05)\n"
     ]
    }
   ],
   "source": [
    "# Combine original categorical columns and binned numerical columns\n",
    "categorical_cols = ['Gender', 'Education_Level', 'Marital_Status','Contacts_Count_12_mon','Months_Inactive_12_mon', \n",
    "                   'Income_Category', 'Card_Category', 'Age_Category']\n",
    "\n",
    "numerical_cols = ['Credit_Limit', 'Total_Revolving_Bal', 'Avg_Open_To_Buy', \n",
    "                 'Total_Trans_Amt', 'Total_Trans_Ct',\n",
    "                 'Total_Amt_Chng_Q4_Q1', 'Total_Ct_Chng_Q4_Q1', 'Avg_Utilization_Ratio']\n",
    "\n",
    "# Get all binned column names\n",
    "binned_cols = [f'{col}_binned' for col in numerical_cols]\n",
    "\n",
    "# Combine all categorical columns\n",
    "all_cats = categorical_cols + binned_cols\n",
    "\n",
    "# Perform chi-square tests for all categorical variables\n",
    "for col in all_cats:\n",
    "    print(f\"\\n=== Chi-square test for {col} ===\")\n",
    "    \n",
    "    # Create contingency table\n",
    "    contingency_table = pd.crosstab(df[col], df['Attrition_Flag'])\n",
    "    print(\"\\nContingency Table:\")\n",
    "    print(contingency_table)\n",
    "    \n",
    "    # Perform chi-square test\n",
    "    chi2, p_value, dof, expected = stats.chi2_contingency(contingency_table)\n",
    "    \n",
    "    print(f\"\\nChi-square statistic: {chi2:.4f}\")\n",
    "    print(f\"p-value: {p_value:.4e}\")\n",
    "    print(f\"Degrees of freedom: {dof}\")\n",
    "    \n",
    "    if p_value < 0.05:\n",
    "        print(\"Conclusion: There is a significant relationship (p < 0.05)\")\n",
    "    else:\n",
    "        print(\"Conclusion: No significant relationship (p >= 0.05)\")"
   ]
  },
  {
   "cell_type": "code",
   "execution_count": 104,
   "metadata": {},
   "outputs": [
    {
     "name": "stdout",
     "output_type": "stream",
     "text": [
      "T-test Results for Total Revolving Balance:\n",
      "t-statistic: 24.0473\n",
      "p-value: 7.0897e-113\n",
      "\n",
      "Descriptive Statistics:\n",
      "\n",
      "Existing Customers (0):\n",
      "Mean: 1256.6041\n",
      "Std: 757.7454\n",
      "Count: 8500\n",
      "\n",
      "Attrited Customers (1):\n",
      "Mean: 672.8230\n",
      "Std: 921.3856\n",
      "Count: 1627\n",
      "\n",
      "Cohen's d effect size: 0.7424\n",
      "\n",
      "Mann-Whitney U Test Results for Total Revolving Balance:\n",
      "Statistic: 9510716.0000\n",
      "p-value: 1.9157e-129\n",
      "\n",
      "Median values:\n",
      "Existing Customers: 1364.00\n",
      "Attrited Customers: 0.00\n"
     ]
    }
   ],
   "source": [
    "\n",
    "# Perform t-test with 0/1 values\n",
    "existing_customers = df[df['Attrition_Flag'] == 0]['Total_Revolving_Bal']\n",
    "attrited_customers = df[df['Attrition_Flag'] == 1]['Total_Revolving_Bal']\n",
    "\n",
    "# Perform Welch's t-test (unequal variances)\n",
    "t_stat, p_value = stats.ttest_ind(existing_customers, attrited_customers, equal_var=False)\n",
    "\n",
    "print(\"T-test Results for Total Revolving Balance:\")\n",
    "print(f\"t-statistic: {t_stat:.4f}\")\n",
    "print(f\"p-value: {p_value:.4e}\")\n",
    "\n",
    "# Get descriptive statistics\n",
    "print(\"\\nDescriptive Statistics:\")\n",
    "print(\"\\nExisting Customers (0):\")\n",
    "print(f\"Mean: {existing_customers.mean():.4f}\")\n",
    "print(f\"Std: {existing_customers.std():.4f}\")\n",
    "print(f\"Count: {len(existing_customers)}\")\n",
    "\n",
    "print(\"\\nAttrited Customers (1):\")\n",
    "print(f\"Mean: {attrited_customers.mean():.4f}\")\n",
    "print(f\"Std: {attrited_customers.std():.4f}\")\n",
    "print(f\"Count: {len(attrited_customers)}\")\n",
    "\n",
    "# Effect size (Cohen's d)\n",
    "n1, n2 = len(existing_customers), len(attrited_customers)\n",
    "pooled_std = np.sqrt(((n1-1)*existing_customers.std()**2 + (n2-1)*attrited_customers.std()**2) / (n1+n2-2))\n",
    "cohens_d = (existing_customers.mean() - attrited_customers.mean()) / pooled_std\n",
    "\n",
    "print(f\"\\nCohen's d effect size: {cohens_d:.4f}\")\n",
    "\n",
    "stat, p_value = stats.mannwhitneyu(existing_customers, attrited_customers, alternative='two-sided')\n",
    "\n",
    "print(\"\\nMann-Whitney U Test Results for Total Revolving Balance:\")\n",
    "print(f\"Statistic: {stat:.4f}\")\n",
    "print(f\"p-value: {p_value:.4e}\")\n",
    "\n",
    "# Calculate median for both groups for interpretation\n",
    "print(\"\\nMedian values:\")\n",
    "print(f\"Existing Customers: {existing_customers.median():.2f}\")\n",
    "print(f\"Attrited Customers: {attrited_customers.median():.2f}\")"
   ]
  },
  {
   "cell_type": "code",
   "execution_count": 105,
   "metadata": {},
   "outputs": [
    {
     "name": "stdout",
     "output_type": "stream",
     "text": [
      "T-test Results for Avg Utilization Ratio:\n",
      "t-statistic: 18.6228\n",
      "p-value: 2.7821e-72\n",
      "\n",
      "Descriptive Statistics:\n",
      "\n",
      "Existing Customers (0):\n",
      "Mean: 0.2964\n",
      "Std: 0.2726\n",
      "Count: 8500\n",
      "\n",
      "Attrited Customers (1):\n",
      "Mean: 0.1625\n",
      "Std: 0.2645\n",
      "Count: 1627\n",
      "\n",
      "Cohen's d effect size: 0.4937\n",
      "\n",
      "Mann-Whitney U Test Results for Avg Utilization Ratio:\n",
      "Statistic: 9509093.5000\n",
      "p-value: 2.8691e-129\n",
      "\n",
      "Median values:\n",
      "Existing Customers: 0.21\n",
      "Attrited Customers: 0.00\n"
     ]
    }
   ],
   "source": [
    "\n",
    "\n",
    "# Perform t-test with 0/1 values\n",
    "existing_customers = df[df['Attrition_Flag'] == 0]['Avg_Utilization_Ratio']\n",
    "attrited_customers = df[df['Attrition_Flag'] == 1]['Avg_Utilization_Ratio']\n",
    "\n",
    "# Perform Welch's t-test (unequal variances)\n",
    "t_stat, p_value = stats.ttest_ind(existing_customers, attrited_customers, equal_var=False)\n",
    "\n",
    "print(\"T-test Results for Avg Utilization Ratio:\")\n",
    "print(f\"t-statistic: {t_stat:.4f}\")\n",
    "print(f\"p-value: {p_value:.4e}\")\n",
    "\n",
    "# Get descriptive statistics\n",
    "print(\"\\nDescriptive Statistics:\")\n",
    "print(\"\\nExisting Customers (0):\")\n",
    "print(f\"Mean: {existing_customers.mean():.4f}\")\n",
    "print(f\"Std: {existing_customers.std():.4f}\")\n",
    "print(f\"Count: {len(existing_customers)}\")\n",
    "\n",
    "print(\"\\nAttrited Customers (1):\")\n",
    "print(f\"Mean: {attrited_customers.mean():.4f}\")\n",
    "print(f\"Std: {attrited_customers.std():.4f}\")\n",
    "print(f\"Count: {len(attrited_customers)}\")\n",
    "\n",
    "# Effect size (Cohen's d)\n",
    "n1, n2 = len(existing_customers), len(attrited_customers)\n",
    "pooled_std = np.sqrt(((n1-1)*existing_customers.std()**2 + (n2-1)*attrited_customers.std()**2) / (n1+n2-2))\n",
    "cohens_d = (existing_customers.mean() - attrited_customers.mean()) / pooled_std\n",
    "\n",
    "print(f\"\\nCohen's d effect size: {cohens_d:.4f}\")\n",
    "\n",
    "stat, p_value = stats.mannwhitneyu(existing_customers, attrited_customers, alternative='two-sided')\n",
    "\n",
    "print(\"\\nMann-Whitney U Test Results for Avg Utilization Ratio:\")\n",
    "print(f\"Statistic: {stat:.4f}\")\n",
    "print(f\"p-value: {p_value:.4e}\")\n",
    "\n",
    "# Calculate median for both groups for interpretation\n",
    "print(\"\\nMedian values:\")\n",
    "print(f\"Existing Customers: {existing_customers.median():.2f}\")\n",
    "print(f\"Attrited Customers: {attrited_customers.median():.2f}\")"
   ]
  },
  {
   "cell_type": "code",
   "execution_count": 106,
   "metadata": {},
   "outputs": [
    {
     "name": "stdout",
     "output_type": "stream",
     "text": [
      "\n",
      "=== Bayesian Analysis for M - Married ===\n",
      "Sample size: 2236\n",
      "\n",
      "College:\n",
      "N = 228, Attritions = 33\n",
      "Mean attrition rate: 14.78%\n",
      "95% Credible interval: [10.51%, 19.64%]\n",
      "\n",
      "Doctorate:\n",
      "N = 79, Attritions = 14\n",
      "Mean attrition rate: 18.52%\n",
      "95% Credible interval: [10.89%, 27.62%]\n",
      "\n",
      "Graduate:\n",
      "N = 701, Attritions = 82\n",
      "Mean attrition rate: 11.81%\n",
      "95% Credible interval: [9.53%, 14.29%]\n",
      "\n",
      "High School:\n",
      "N = 469, Attritions = 59\n",
      "Mean attrition rate: 12.74%\n",
      "95% Credible interval: [9.88%, 15.89%]\n",
      "\n",
      "Post-Graduate:\n",
      "N = 117, Attritions = 17\n",
      "Mean attrition rate: 15.13%\n",
      "95% Credible interval: [9.30%, 22.06%]\n",
      "\n",
      "Uneducated:\n",
      "N = 314, Attritions = 49\n",
      "Mean attrition rate: 15.82%\n",
      "95% Credible interval: [12.02%, 20.04%]\n",
      "\n",
      "Unknown:\n",
      "N = 328, Attritions = 43\n",
      "Mean attrition rate: 13.33%\n",
      "95% Credible interval: [9.89%, 17.20%]\n",
      "\n",
      "=== Bayesian Analysis for M - Single ===\n",
      "Sample size: 1818\n",
      "\n",
      "College:\n",
      "N = 179, Attritions = 33\n",
      "Mean attrition rate: 18.78%\n",
      "95% Credible interval: [13.45%, 24.77%]\n",
      "\n",
      "Doctorate:\n",
      "N = 85, Attritions = 12\n",
      "Mean attrition rate: 14.94%\n",
      "95% Credible interval: [8.30%, 23.11%]\n",
      "\n",
      "Graduate:\n",
      "N = 550, Attritions = 83\n",
      "Mean attrition rate: 15.22%\n",
      "95% Credible interval: [12.35%, 18.33%]\n",
      "\n",
      "High School:\n",
      "N = 371, Attritions = 52\n",
      "Mean attrition rate: 14.21%\n",
      "95% Credible interval: [10.86%, 17.92%]\n",
      "\n",
      "Post-Graduate:\n",
      "N = 94, Attritions = 18\n",
      "Mean attrition rate: 19.79%\n",
      "95% Credible interval: [12.49%, 28.28%]\n",
      "\n",
      "Uneducated:\n",
      "N = 265, Attritions = 43\n",
      "Mean attrition rate: 16.48%\n",
      "95% Credible interval: [12.28%, 21.15%]\n",
      "\n",
      "Unknown:\n",
      "N = 274, Attritions = 46\n",
      "Mean attrition rate: 17.03%\n",
      "95% Credible interval: [12.84%, 21.67%]\n",
      "\n",
      "=== Bayesian Analysis for M - Unknown ===\n",
      "Sample size: 369\n",
      "\n",
      "College:\n",
      "N = 37, Attritions = 2\n",
      "Mean attrition rate: 7.69%\n",
      "95% Credible interval: [1.66%, 17.75%]\n",
      "\n",
      "Doctorate:\n",
      "N = 14, Attritions = 2\n",
      "Mean attrition rate: 18.75%\n",
      "95% Credible interval: [4.33%, 40.46%]\n",
      "\n",
      "Graduate:\n",
      "N = 101, Attritions = 12\n",
      "Mean attrition rate: 12.62%\n",
      "95% Credible interval: [6.96%, 19.65%]\n",
      "\n",
      "High School:\n",
      "N = 81, Attritions = 12\n",
      "Mean attrition rate: 15.66%\n",
      "95% Credible interval: [8.72%, 24.17%]\n",
      "\n",
      "Post-Graduate:\n",
      "N = 24, Attritions = 9\n",
      "Mean attrition rate: 38.46%\n",
      "95% Credible interval: [21.13%, 57.48%]\n",
      "\n",
      "Uneducated:\n",
      "N = 54, Attritions = 14\n",
      "Mean attrition rate: 26.79%\n",
      "95% Credible interval: [16.14%, 39.00%]\n",
      "\n",
      "Unknown:\n",
      "N = 58, Attritions = 9\n",
      "Mean attrition rate: 16.67%\n",
      "95% Credible interval: [8.44%, 26.99%]\n",
      "\n",
      "=== Bayesian Analysis for M - Divorced ===\n",
      "Sample size: 346\n",
      "\n",
      "College:\n",
      "N = 37, Attritions = 7\n",
      "Mean attrition rate: 20.51%\n",
      "95% Credible interval: [9.55%, 34.33%]\n",
      "\n",
      "Doctorate:\n",
      "N = 16, Attritions = 3\n",
      "Mean attrition rate: 22.22%\n",
      "95% Credible interval: [6.81%, 43.43%]\n",
      "\n",
      "Graduate:\n",
      "N = 106, Attritions = 17\n",
      "Mean attrition rate: 16.67%\n",
      "95% Credible interval: [10.29%, 24.21%]\n",
      "\n",
      "High School:\n",
      "N = 64, Attritions = 11\n",
      "Mean attrition rate: 18.18%\n",
      "95% Credible interval: [9.92%, 28.27%]\n",
      "\n",
      "Post-Graduate:\n",
      "N = 18, Attritions = 4\n",
      "Mean attrition rate: 25.00%\n",
      "95% Credible interval: [9.15%, 45.57%]\n",
      "\n",
      "Uneducated:\n",
      "N = 58, Attritions = 4\n",
      "Mean attrition rate: 8.33%\n",
      "95% Credible interval: [2.81%, 16.46%]\n",
      "\n",
      "Unknown:\n",
      "N = 47, Attritions = 7\n",
      "Mean attrition rate: 16.33%\n",
      "95% Credible interval: [7.48%, 27.76%]\n",
      "\n",
      "=== Bayesian Analysis for F - Married ===\n",
      "Sample size: 2451\n",
      "\n",
      "College:\n",
      "N = 239, Attritions = 38\n",
      "Mean attrition rate: 16.18%\n",
      "95% Credible interval: [11.82%, 21.08%]\n",
      "\n",
      "Doctorate:\n",
      "N = 126, Attritions = 32\n",
      "Mean attrition rate: 25.78%\n",
      "95% Credible interval: [18.61%, 33.67%]\n",
      "\n",
      "Graduate:\n",
      "N = 778, Attritions = 131\n",
      "Mean attrition rate: 16.92%\n",
      "95% Credible interval: [14.38%, 19.63%]\n",
      "\n",
      "High School:\n",
      "N = 480, Attritions = 78\n",
      "Mean attrition rate: 16.39%\n",
      "95% Credible interval: [13.22%, 19.82%]\n",
      "\n",
      "Post-Graduate:\n",
      "N = 126, Attritions = 20\n",
      "Mean attrition rate: 16.41%\n",
      "95% Credible interval: [10.54%, 23.27%]\n",
      "\n",
      "Uneducated:\n",
      "N = 342, Attritions = 44\n",
      "Mean attrition rate: 13.08%\n",
      "95% Credible interval: [9.73%, 16.84%]\n",
      "\n",
      "Unknown:\n",
      "N = 360, Attritions = 69\n",
      "Mean attrition rate: 19.34%\n",
      "95% Credible interval: [15.44%, 23.56%]\n",
      "\n",
      "=== Bayesian Analysis for F - Single ===\n",
      "Sample size: 2125\n",
      "\n",
      "College:\n",
      "N = 207, Attritions = 30\n",
      "Mean attrition rate: 14.83%\n",
      "95% Credible interval: [10.36%, 19.95%]\n",
      "\n",
      "Doctorate:\n",
      "N = 97, Attritions = 23\n",
      "Mean attrition rate: 24.24%\n",
      "95% Credible interval: [16.36%, 33.11%]\n",
      "\n",
      "Graduate:\n",
      "N = 647, Attritions = 119\n",
      "Mean attrition rate: 18.49%\n",
      "95% Credible interval: [15.60%, 21.56%]\n",
      "\n",
      "High School:\n",
      "N = 411, Attritions = 66\n",
      "Mean attrition rate: 16.22%\n",
      "95% Credible interval: [12.83%, 19.92%]\n",
      "\n",
      "Post-Graduate:\n",
      "N = 95, Attritions = 17\n",
      "Mean attrition rate: 18.56%\n",
      "95% Credible interval: [11.51%, 26.83%]\n",
      "\n",
      "Uneducated:\n",
      "N = 321, Attritions = 59\n",
      "Mean attrition rate: 18.58%\n",
      "95% Credible interval: [14.53%, 22.99%]\n",
      "\n",
      "Unknown:\n",
      "N = 347, Attritions = 67\n",
      "Mean attrition rate: 19.48%\n",
      "95% Credible interval: [15.51%, 23.79%]\n",
      "\n",
      "=== Bayesian Analysis for F - Unknown ===\n",
      "Sample size: 380\n",
      "\n",
      "College:\n",
      "N = 37, Attritions = 7\n",
      "Mean attrition rate: 20.51%\n",
      "95% Credible interval: [9.55%, 34.33%]\n",
      "\n",
      "Doctorate:\n",
      "N = 14, Attritions = 4\n",
      "Mean attrition rate: 31.25%\n",
      "95% Credible interval: [11.82%, 55.10%]\n",
      "\n",
      "Graduate:\n",
      "N = 126, Attritions = 24\n",
      "Mean attrition rate: 19.53%\n",
      "95% Credible interval: [13.16%, 26.80%]\n",
      "\n",
      "High School:\n",
      "N = 73, Attritions = 17\n",
      "Mean attrition rate: 24.00%\n",
      "95% Credible interval: [15.10%, 34.21%]\n",
      "\n",
      "Post-Graduate:\n",
      "N = 19, Attritions = 3\n",
      "Mean attrition rate: 19.05%\n",
      "95% Credible interval: [5.73%, 37.89%]\n",
      "\n",
      "Uneducated:\n",
      "N = 55, Attritions = 8\n",
      "Mean attrition rate: 15.79%\n",
      "95% Credible interval: [7.62%, 26.22%]\n",
      "\n",
      "Unknown:\n",
      "N = 56, Attritions = 6\n",
      "Mean attrition rate: 12.07%\n",
      "95% Credible interval: [5.08%, 21.52%]\n",
      "\n",
      "=== Bayesian Analysis for F - Divorced ===\n",
      "Sample size: 402\n",
      "\n",
      "College:\n",
      "N = 49, Attritions = 4\n",
      "Mean attrition rate: 9.80%\n",
      "95% Credible interval: [3.33%, 19.23%]\n",
      "\n",
      "Doctorate:\n",
      "N = 20, Attritions = 5\n",
      "Mean attrition rate: 27.27%\n",
      "95% Credible interval: [11.28%, 47.17%]\n",
      "\n",
      "Graduate:\n",
      "N = 119, Attritions = 19\n",
      "Mean attrition rate: 16.53%\n",
      "95% Credible interval: [10.49%, 23.62%]\n",
      "\n",
      "High School:\n",
      "N = 64, Attritions = 11\n",
      "Mean attrition rate: 18.18%\n",
      "95% Credible interval: [9.92%, 28.27%]\n",
      "\n",
      "Post-Graduate:\n",
      "N = 23, Attritions = 4\n",
      "Mean attrition rate: 20.00%\n",
      "95% Credible interval: [7.13%, 37.38%]\n",
      "\n",
      "Uneducated:\n",
      "N = 78, Attritions = 16\n",
      "Mean attrition rate: 21.25%\n",
      "95% Credible interval: [13.06%, 30.80%]\n",
      "\n",
      "Unknown:\n",
      "N = 49, Attritions = 9\n",
      "Mean attrition rate: 19.61%\n",
      "95% Credible interval: [10.03%, 31.44%]\n"
     ]
    }
   ],
   "source": [
    "\n",
    "def bayesian_proportion_analysis(successes, trials, alpha_prior=1, beta_prior=1):\n",
    "    \"\"\"Compute Bayesian posterior for a proportion\"\"\"\n",
    "    alpha_post = alpha_prior + successes\n",
    "    beta_post = beta_prior + (trials - successes)\n",
    "    mean = alpha_post / (alpha_post + beta_post)\n",
    "    interval = stats.beta.interval(0.95, alpha_post, beta_post)\n",
    "    return mean, interval\n",
    "\n",
    "def analyze_group_bayesian(data, gender, marital_status):\n",
    "    # Filter data for specific group\n",
    "    group_data = data[(data['Gender'] == gender) & \n",
    "                     (data['Marital_Status'] == marital_status)]\n",
    "    \n",
    "    print(f\"\\n=== Bayesian Analysis for {gender} - {marital_status} ===\")\n",
    "    print(f\"Sample size: {len(group_data)}\")\n",
    "    \n",
    "    # Analyze each education level\n",
    "    for edu in sorted(group_data['Education_Level'].unique()):\n",
    "        edu_data = group_data[group_data['Education_Level'] == edu]\n",
    "        successes = edu_data['Attrition_Flag'].sum()\n",
    "        trials = len(edu_data)\n",
    "        \n",
    "        if trials == 0:\n",
    "            continue\n",
    "            \n",
    "        mean, (ci_low, ci_high) = bayesian_proportion_analysis(successes, trials)\n",
    "        \n",
    "        print(f\"\\n{edu}:\")\n",
    "        print(f\"N = {trials}, Attritions = {successes}\")\n",
    "        print(f\"Mean attrition rate: {mean*100:.2f}%\")\n",
    "        print(f\"95% Credible interval: [{ci_low*100:.2f}%, {ci_high*100:.2f}%]\")\n",
    "\n",
    "# Run analysis for each group\n",
    "for gender in ['M', 'F']:\n",
    "    for marital in df['Marital_Status'].unique():\n",
    "        analyze_group_bayesian(df, gender, marital)"
   ]
  },
  {
   "cell_type": "code",
   "execution_count": 107,
   "metadata": {},
   "outputs": [
    {
     "data": {
      "application/vnd.plotly.v1+json": {
       "config": {
        "plotlyServerURL": "https://plot.ly"
       },
       "data": [
        {
         "branchvalues": "total",
         "customdata": [
          [
           5.41,
           37,
           2,
           5.41
          ],
          [
           25.4,
           126,
           32,
           25.4
          ],
          [
           23.709999999999997,
           97,
           23,
           23.709999999999997
          ],
          [
           37.5,
           24,
           9,
           37.5
          ],
          [
           6.9,
           58,
           4,
           6.9
          ],
          [
           25.93,
           54,
           14,
           25.93
          ],
          [
           6.9,
           58,
           4,
           6.9
          ],
          [
           25.4,
           126,
           32,
           25.4
          ],
          [
           23.709999999999997,
           97,
           23,
           23.709999999999997
          ],
          [
           21.74252173913044,
           115,
           "(?)",
           21.74252173913044
          ],
          [
           24.66488789237668,
           223,
           "(?)",
           24.66488789237668
          ],
          [
           16.7664161849711,
           173,
           "(?)",
           16.7664161849711
          ],
          [
           21.214292929292927,
           396,
           "(?)",
           21.214292929292927
          ]
         ],
         "domain": {
          "x": [
           0,
           1
          ],
          "y": [
           0,
           1
          ]
         },
         "hovertemplate": "\n        <b>%{label}</b><br>\n        Attrition Rate: %{customdata[0]:.1f}%<br>\n        Total Customers: %{customdata[1]}<br>\n        Attrited: %{customdata[2]}<br>\n        <extra></extra>\n        ",
         "ids": [
          "Extreme Attrition Groups/M/Unknown/College",
          "Extreme Attrition Groups/F/Married/Doctorate",
          "Extreme Attrition Groups/F/Single/Doctorate",
          "Extreme Attrition Groups/M/Unknown/Post-Graduate",
          "Extreme Attrition Groups/M/Divorced/Uneducated",
          "Extreme Attrition Groups/M/Unknown/Uneducated",
          "Extreme Attrition Groups/M/Divorced",
          "Extreme Attrition Groups/F/Married",
          "Extreme Attrition Groups/F/Single",
          "Extreme Attrition Groups/M/Unknown",
          "Extreme Attrition Groups/F",
          "Extreme Attrition Groups/M",
          "Extreme Attrition Groups"
         ],
         "labels": [
          "College",
          "Doctorate",
          "Doctorate",
          "Post-Graduate",
          "Uneducated",
          "Uneducated",
          "Divorced",
          "Married",
          "Single",
          "Unknown",
          "F",
          "M",
          "Extreme Attrition Groups"
         ],
         "marker": {
          "coloraxis": "coloraxis",
          "colors": [
           5.41,
           25.4,
           23.709999999999997,
           37.5,
           6.9,
           25.93,
           6.9,
           25.4,
           23.709999999999997,
           21.74252173913044,
           24.66488789237668,
           16.7664161849711,
           21.214292929292927
          ]
         },
         "name": "",
         "parents": [
          "Extreme Attrition Groups/M/Unknown",
          "Extreme Attrition Groups/F/Married",
          "Extreme Attrition Groups/F/Single",
          "Extreme Attrition Groups/M/Unknown",
          "Extreme Attrition Groups/M/Divorced",
          "Extreme Attrition Groups/M/Unknown",
          "Extreme Attrition Groups/M",
          "Extreme Attrition Groups/F",
          "Extreme Attrition Groups/F",
          "Extreme Attrition Groups/M",
          "Extreme Attrition Groups",
          "Extreme Attrition Groups",
          ""
         ],
         "type": "treemap",
         "values": [
          37,
          126,
          97,
          24,
          58,
          54,
          58,
          126,
          97,
          115,
          223,
          173,
          396
         ]
        }
       ],
       "layout": {
        "coloraxis": {
         "colorbar": {
          "title": {
           "text": "Attrition_Rate"
          }
         },
         "colorscale": [
          [
           0,
           "rgb(103,0,31)"
          ],
          [
           0.1,
           "rgb(178,24,43)"
          ],
          [
           0.2,
           "rgb(214,96,77)"
          ],
          [
           0.3,
           "rgb(244,165,130)"
          ],
          [
           0.4,
           "rgb(253,219,199)"
          ],
          [
           0.5,
           "rgb(247,247,247)"
          ],
          [
           0.6,
           "rgb(209,229,240)"
          ],
          [
           0.7,
           "rgb(146,197,222)"
          ],
          [
           0.8,
           "rgb(67,147,195)"
          ],
          [
           0.9,
           "rgb(33,102,172)"
          ],
          [
           1,
           "rgb(5,48,97)"
          ]
         ]
        },
        "height": 600,
        "legend": {
         "tracegroupgap": 0
        },
        "template": {
         "data": {
          "bar": [
           {
            "error_x": {
             "color": "#2a3f5f"
            },
            "error_y": {
             "color": "#2a3f5f"
            },
            "marker": {
             "line": {
              "color": "#E5ECF6",
              "width": 0.5
             },
             "pattern": {
              "fillmode": "overlay",
              "size": 10,
              "solidity": 0.2
             }
            },
            "type": "bar"
           }
          ],
          "barpolar": [
           {
            "marker": {
             "line": {
              "color": "#E5ECF6",
              "width": 0.5
             },
             "pattern": {
              "fillmode": "overlay",
              "size": 10,
              "solidity": 0.2
             }
            },
            "type": "barpolar"
           }
          ],
          "carpet": [
           {
            "aaxis": {
             "endlinecolor": "#2a3f5f",
             "gridcolor": "white",
             "linecolor": "white",
             "minorgridcolor": "white",
             "startlinecolor": "#2a3f5f"
            },
            "baxis": {
             "endlinecolor": "#2a3f5f",
             "gridcolor": "white",
             "linecolor": "white",
             "minorgridcolor": "white",
             "startlinecolor": "#2a3f5f"
            },
            "type": "carpet"
           }
          ],
          "choropleth": [
           {
            "colorbar": {
             "outlinewidth": 0,
             "ticks": ""
            },
            "type": "choropleth"
           }
          ],
          "contour": [
           {
            "colorbar": {
             "outlinewidth": 0,
             "ticks": ""
            },
            "colorscale": [
             [
              0,
              "#0d0887"
             ],
             [
              0.1111111111111111,
              "#46039f"
             ],
             [
              0.2222222222222222,
              "#7201a8"
             ],
             [
              0.3333333333333333,
              "#9c179e"
             ],
             [
              0.4444444444444444,
              "#bd3786"
             ],
             [
              0.5555555555555556,
              "#d8576b"
             ],
             [
              0.6666666666666666,
              "#ed7953"
             ],
             [
              0.7777777777777778,
              "#fb9f3a"
             ],
             [
              0.8888888888888888,
              "#fdca26"
             ],
             [
              1,
              "#f0f921"
             ]
            ],
            "type": "contour"
           }
          ],
          "contourcarpet": [
           {
            "colorbar": {
             "outlinewidth": 0,
             "ticks": ""
            },
            "type": "contourcarpet"
           }
          ],
          "heatmap": [
           {
            "colorbar": {
             "outlinewidth": 0,
             "ticks": ""
            },
            "colorscale": [
             [
              0,
              "#0d0887"
             ],
             [
              0.1111111111111111,
              "#46039f"
             ],
             [
              0.2222222222222222,
              "#7201a8"
             ],
             [
              0.3333333333333333,
              "#9c179e"
             ],
             [
              0.4444444444444444,
              "#bd3786"
             ],
             [
              0.5555555555555556,
              "#d8576b"
             ],
             [
              0.6666666666666666,
              "#ed7953"
             ],
             [
              0.7777777777777778,
              "#fb9f3a"
             ],
             [
              0.8888888888888888,
              "#fdca26"
             ],
             [
              1,
              "#f0f921"
             ]
            ],
            "type": "heatmap"
           }
          ],
          "heatmapgl": [
           {
            "colorbar": {
             "outlinewidth": 0,
             "ticks": ""
            },
            "colorscale": [
             [
              0,
              "#0d0887"
             ],
             [
              0.1111111111111111,
              "#46039f"
             ],
             [
              0.2222222222222222,
              "#7201a8"
             ],
             [
              0.3333333333333333,
              "#9c179e"
             ],
             [
              0.4444444444444444,
              "#bd3786"
             ],
             [
              0.5555555555555556,
              "#d8576b"
             ],
             [
              0.6666666666666666,
              "#ed7953"
             ],
             [
              0.7777777777777778,
              "#fb9f3a"
             ],
             [
              0.8888888888888888,
              "#fdca26"
             ],
             [
              1,
              "#f0f921"
             ]
            ],
            "type": "heatmapgl"
           }
          ],
          "histogram": [
           {
            "marker": {
             "pattern": {
              "fillmode": "overlay",
              "size": 10,
              "solidity": 0.2
             }
            },
            "type": "histogram"
           }
          ],
          "histogram2d": [
           {
            "colorbar": {
             "outlinewidth": 0,
             "ticks": ""
            },
            "colorscale": [
             [
              0,
              "#0d0887"
             ],
             [
              0.1111111111111111,
              "#46039f"
             ],
             [
              0.2222222222222222,
              "#7201a8"
             ],
             [
              0.3333333333333333,
              "#9c179e"
             ],
             [
              0.4444444444444444,
              "#bd3786"
             ],
             [
              0.5555555555555556,
              "#d8576b"
             ],
             [
              0.6666666666666666,
              "#ed7953"
             ],
             [
              0.7777777777777778,
              "#fb9f3a"
             ],
             [
              0.8888888888888888,
              "#fdca26"
             ],
             [
              1,
              "#f0f921"
             ]
            ],
            "type": "histogram2d"
           }
          ],
          "histogram2dcontour": [
           {
            "colorbar": {
             "outlinewidth": 0,
             "ticks": ""
            },
            "colorscale": [
             [
              0,
              "#0d0887"
             ],
             [
              0.1111111111111111,
              "#46039f"
             ],
             [
              0.2222222222222222,
              "#7201a8"
             ],
             [
              0.3333333333333333,
              "#9c179e"
             ],
             [
              0.4444444444444444,
              "#bd3786"
             ],
             [
              0.5555555555555556,
              "#d8576b"
             ],
             [
              0.6666666666666666,
              "#ed7953"
             ],
             [
              0.7777777777777778,
              "#fb9f3a"
             ],
             [
              0.8888888888888888,
              "#fdca26"
             ],
             [
              1,
              "#f0f921"
             ]
            ],
            "type": "histogram2dcontour"
           }
          ],
          "mesh3d": [
           {
            "colorbar": {
             "outlinewidth": 0,
             "ticks": ""
            },
            "type": "mesh3d"
           }
          ],
          "parcoords": [
           {
            "line": {
             "colorbar": {
              "outlinewidth": 0,
              "ticks": ""
             }
            },
            "type": "parcoords"
           }
          ],
          "pie": [
           {
            "automargin": true,
            "type": "pie"
           }
          ],
          "scatter": [
           {
            "fillpattern": {
             "fillmode": "overlay",
             "size": 10,
             "solidity": 0.2
            },
            "type": "scatter"
           }
          ],
          "scatter3d": [
           {
            "line": {
             "colorbar": {
              "outlinewidth": 0,
              "ticks": ""
             }
            },
            "marker": {
             "colorbar": {
              "outlinewidth": 0,
              "ticks": ""
             }
            },
            "type": "scatter3d"
           }
          ],
          "scattercarpet": [
           {
            "marker": {
             "colorbar": {
              "outlinewidth": 0,
              "ticks": ""
             }
            },
            "type": "scattercarpet"
           }
          ],
          "scattergeo": [
           {
            "marker": {
             "colorbar": {
              "outlinewidth": 0,
              "ticks": ""
             }
            },
            "type": "scattergeo"
           }
          ],
          "scattergl": [
           {
            "marker": {
             "colorbar": {
              "outlinewidth": 0,
              "ticks": ""
             }
            },
            "type": "scattergl"
           }
          ],
          "scattermapbox": [
           {
            "marker": {
             "colorbar": {
              "outlinewidth": 0,
              "ticks": ""
             }
            },
            "type": "scattermapbox"
           }
          ],
          "scatterpolar": [
           {
            "marker": {
             "colorbar": {
              "outlinewidth": 0,
              "ticks": ""
             }
            },
            "type": "scatterpolar"
           }
          ],
          "scatterpolargl": [
           {
            "marker": {
             "colorbar": {
              "outlinewidth": 0,
              "ticks": ""
             }
            },
            "type": "scatterpolargl"
           }
          ],
          "scatterternary": [
           {
            "marker": {
             "colorbar": {
              "outlinewidth": 0,
              "ticks": ""
             }
            },
            "type": "scatterternary"
           }
          ],
          "surface": [
           {
            "colorbar": {
             "outlinewidth": 0,
             "ticks": ""
            },
            "colorscale": [
             [
              0,
              "#0d0887"
             ],
             [
              0.1111111111111111,
              "#46039f"
             ],
             [
              0.2222222222222222,
              "#7201a8"
             ],
             [
              0.3333333333333333,
              "#9c179e"
             ],
             [
              0.4444444444444444,
              "#bd3786"
             ],
             [
              0.5555555555555556,
              "#d8576b"
             ],
             [
              0.6666666666666666,
              "#ed7953"
             ],
             [
              0.7777777777777778,
              "#fb9f3a"
             ],
             [
              0.8888888888888888,
              "#fdca26"
             ],
             [
              1,
              "#f0f921"
             ]
            ],
            "type": "surface"
           }
          ],
          "table": [
           {
            "cells": {
             "fill": {
              "color": "#EBF0F8"
             },
             "line": {
              "color": "white"
             }
            },
            "header": {
             "fill": {
              "color": "#C8D4E3"
             },
             "line": {
              "color": "white"
             }
            },
            "type": "table"
           }
          ]
         },
         "layout": {
          "annotationdefaults": {
           "arrowcolor": "#2a3f5f",
           "arrowhead": 0,
           "arrowwidth": 1
          },
          "autotypenumbers": "strict",
          "coloraxis": {
           "colorbar": {
            "outlinewidth": 0,
            "ticks": ""
           }
          },
          "colorscale": {
           "diverging": [
            [
             0,
             "#8e0152"
            ],
            [
             0.1,
             "#c51b7d"
            ],
            [
             0.2,
             "#de77ae"
            ],
            [
             0.3,
             "#f1b6da"
            ],
            [
             0.4,
             "#fde0ef"
            ],
            [
             0.5,
             "#f7f7f7"
            ],
            [
             0.6,
             "#e6f5d0"
            ],
            [
             0.7,
             "#b8e186"
            ],
            [
             0.8,
             "#7fbc41"
            ],
            [
             0.9,
             "#4d9221"
            ],
            [
             1,
             "#276419"
            ]
           ],
           "sequential": [
            [
             0,
             "#0d0887"
            ],
            [
             0.1111111111111111,
             "#46039f"
            ],
            [
             0.2222222222222222,
             "#7201a8"
            ],
            [
             0.3333333333333333,
             "#9c179e"
            ],
            [
             0.4444444444444444,
             "#bd3786"
            ],
            [
             0.5555555555555556,
             "#d8576b"
            ],
            [
             0.6666666666666666,
             "#ed7953"
            ],
            [
             0.7777777777777778,
             "#fb9f3a"
            ],
            [
             0.8888888888888888,
             "#fdca26"
            ],
            [
             1,
             "#f0f921"
            ]
           ],
           "sequentialminus": [
            [
             0,
             "#0d0887"
            ],
            [
             0.1111111111111111,
             "#46039f"
            ],
            [
             0.2222222222222222,
             "#7201a8"
            ],
            [
             0.3333333333333333,
             "#9c179e"
            ],
            [
             0.4444444444444444,
             "#bd3786"
            ],
            [
             0.5555555555555556,
             "#d8576b"
            ],
            [
             0.6666666666666666,
             "#ed7953"
            ],
            [
             0.7777777777777778,
             "#fb9f3a"
            ],
            [
             0.8888888888888888,
             "#fdca26"
            ],
            [
             1,
             "#f0f921"
            ]
           ]
          },
          "colorway": [
           "#636efa",
           "#EF553B",
           "#00cc96",
           "#ab63fa",
           "#FFA15A",
           "#19d3f3",
           "#FF6692",
           "#B6E880",
           "#FF97FF",
           "#FECB52"
          ],
          "font": {
           "color": "#2a3f5f"
          },
          "geo": {
           "bgcolor": "white",
           "lakecolor": "white",
           "landcolor": "#E5ECF6",
           "showlakes": true,
           "showland": true,
           "subunitcolor": "white"
          },
          "hoverlabel": {
           "align": "left"
          },
          "hovermode": "closest",
          "mapbox": {
           "style": "light"
          },
          "paper_bgcolor": "white",
          "plot_bgcolor": "#E5ECF6",
          "polar": {
           "angularaxis": {
            "gridcolor": "white",
            "linecolor": "white",
            "ticks": ""
           },
           "bgcolor": "#E5ECF6",
           "radialaxis": {
            "gridcolor": "white",
            "linecolor": "white",
            "ticks": ""
           }
          },
          "scene": {
           "xaxis": {
            "backgroundcolor": "#E5ECF6",
            "gridcolor": "white",
            "gridwidth": 2,
            "linecolor": "white",
            "showbackground": true,
            "ticks": "",
            "zerolinecolor": "white"
           },
           "yaxis": {
            "backgroundcolor": "#E5ECF6",
            "gridcolor": "white",
            "gridwidth": 2,
            "linecolor": "white",
            "showbackground": true,
            "ticks": "",
            "zerolinecolor": "white"
           },
           "zaxis": {
            "backgroundcolor": "#E5ECF6",
            "gridcolor": "white",
            "gridwidth": 2,
            "linecolor": "white",
            "showbackground": true,
            "ticks": "",
            "zerolinecolor": "white"
           }
          },
          "shapedefaults": {
           "line": {
            "color": "#2a3f5f"
           }
          },
          "ternary": {
           "aaxis": {
            "gridcolor": "white",
            "linecolor": "white",
            "ticks": ""
           },
           "baxis": {
            "gridcolor": "white",
            "linecolor": "white",
            "ticks": ""
           },
           "bgcolor": "#E5ECF6",
           "caxis": {
            "gridcolor": "white",
            "linecolor": "white",
            "ticks": ""
           }
          },
          "title": {
           "x": 0.05
          },
          "xaxis": {
           "automargin": true,
           "gridcolor": "white",
           "linecolor": "white",
           "ticks": "",
           "title": {
            "standoff": 15
           },
           "zerolinecolor": "white",
           "zerolinewidth": 2
          },
          "yaxis": {
           "automargin": true,
           "gridcolor": "white",
           "linecolor": "white",
           "ticks": "",
           "title": {
            "standoff": 15
           },
           "zerolinecolor": "white",
           "zerolinewidth": 2
          }
         }
        },
        "title": {
         "font": {
          "size": 16
         },
         "text": "Extreme Attrition Groups (Red: High Risk, Blue: Low Risk)",
         "x": 0.5
        },
        "width": 1000
       }
      }
     },
     "metadata": {},
     "output_type": "display_data"
    }
   ],
   "source": [
    "import plotly.express as px\n",
    "import pandas as pd\n",
    "\n",
    "def create_combined_extreme_treemap(data):\n",
    "    # Define the extreme groups with the same conditions\n",
    "    extreme_conditions = (\n",
    "        # High risk groups\n",
    "        ((data['Gender'] == 'M') & (data['Marital_Status'] == 'Unknown') & \n",
    "         (data['Education_Level'].isin(['Post-Graduate', 'Uneducated']))) |\n",
    "        ((data['Gender'].isin(['F'])) & (data['Education_Level'] == 'Doctorate') & \n",
    "         (data['Marital_Status'].isin(['Married', 'Single']))) |\n",
    "        # Low risk groups\n",
    "        ((data['Gender'] == 'M') & (data['Marital_Status'] == 'Unknown') & \n",
    "         (data['Education_Level'] == 'College')) |\n",
    "        ((data['Gender'] == 'M') & (data['Marital_Status'] == 'Divorced') & \n",
    "         (data['Education_Level'] == 'Uneducated'))\n",
    "    )\n",
    "    \n",
    "    # Filter data\n",
    "    filtered_data = data[extreme_conditions].copy()\n",
    "    \n",
    "    # Calculate attrition rates and group data\n",
    "    grouped = filtered_data.groupby(['Gender', 'Marital_Status', 'Education_Level']).agg({\n",
    "        'Attrition_Flag': ['count', 'sum']\n",
    "    }).reset_index()\n",
    "    \n",
    "    grouped.columns = ['Gender', 'Marital_Status', 'Education_Level', 'Total', 'Attrited']\n",
    "    grouped['Attrition_Rate'] = (grouped['Attrited'] / grouped['Total'] * 100).round(2)\n",
    "    \n",
    "    # Create treemap\n",
    "    fig = px.treemap(\n",
    "        grouped,\n",
    "        path=[px.Constant(\"Extreme Attrition Groups\"), 'Gender', 'Marital_Status', 'Education_Level'],\n",
    "        values='Total',\n",
    "        color='Attrition_Rate',\n",
    "        color_continuous_scale='RdBu',  # Red for high risk, Blue for low risk\n",
    "        hover_data=['Attrition_Rate', 'Total', 'Attrited'],\n",
    "        title='Extreme Attrition Groups (Red: High Risk, Blue: Low Risk)'\n",
    "    )\n",
    "    \n",
    "    fig.update_layout(\n",
    "        width=1000,\n",
    "        height=600,\n",
    "        title_x=0.5,\n",
    "        title_font_size=16\n",
    "    )\n",
    "    \n",
    "    fig.update_traces(\n",
    "        hovertemplate=\"\"\"\n",
    "        <b>%{label}</b><br>\n",
    "        Attrition Rate: %{customdata[0]:.1f}%<br>\n",
    "        Total Customers: %{customdata[1]}<br>\n",
    "        Attrited: %{customdata[2]}<br>\n",
    "        <extra></extra>\n",
    "        \"\"\"\n",
    "    )\n",
    "    \n",
    "    fig.show()\n",
    "\n",
    "# Create visualization\n",
    "create_combined_extreme_treemap(df)"
   ]
  },
  {
   "cell_type": "code",
   "execution_count": 113,
   "metadata": {},
   "outputs": [
    {
     "data": {
      "application/vnd.jupyter.widget-view+json": {
       "model_id": "55c94dff32e443b1a3dbd19102a57689",
       "version_major": 2,
       "version_minor": 0
      },
      "text/plain": [
       "  0%|          | 0/1000000 [00:00<?, ?it/s]"
      ]
     },
     "metadata": {},
     "output_type": "display_data"
    },
    {
     "data": {
      "image/png": "[encoded data removed]",
      "text/plain": [
       "<Figure size 2000x1200 with 1 Axes>"
      ]
     },
     "metadata": {},
     "output_type": "display_data"
    },
    {
     "name": "stdout",
     "output_type": "stream",
     "text": [
      "\n",
      "Hierarchical Relationships in the Network:\n",
      "----------------------------------------\n",
      "Transaction Count → Transaction Amount\n",
      "Transaction Count → Customer Attrition\n",
      "Transaction Count → Transaction Count Change\n",
      "Transaction Count → Marital Status\n",
      "Transaction Count → Age\n",
      "Transaction Amount → Amount Change\n",
      "Transaction Amount → Customer Attrition\n",
      "Transaction Amount → Contact Count\n",
      "Transaction Amount → Gender\n",
      "Transaction Amount → Age\n",
      "Transaction Amount → Revolving Balance\n",
      "Transaction Count Change → Amount Change\n",
      "Transaction Count Change → Transaction Amount\n",
      "Age → Income\n",
      "Age → Marital Status\n",
      "Age → Inactive Months\n",
      "Gender → Income\n",
      "Gender → Credit Limit\n",
      "Revolving Balance → Card Utilization\n",
      "Revolving Balance → Customer Attrition\n",
      "Income → Credit Limit\n",
      "Credit Limit → Card Utilization\n"
     ]
    }
   ],
   "source": [
    "from pgmpy.models import BayesianNetwork\n",
    "from pgmpy.estimators import HillClimbSearch\n",
    "import networkx as nx\n",
    "import matplotlib.pyplot as plt\n",
    "\n",
    "# Select significant variables\n",
    "selected_cols = [\n",
    "    'Total_Trans_Ct_binned',          \n",
    "    'Total_Trans_Amt_binned',         \n",
    "    'Total_Revolving_Bal_binned',     \n",
    "    'Total_Ct_Chng_Q4_Q1_binned',    \n",
    "    'Contacts_Count_12_mon',          \n",
    "    'Avg_Utilization_Ratio_binned',   \n",
    "    'Months_Inactive_12_mon',         \n",
    "    'Total_Amt_Chng_Q4_Q1_binned',   \n",
    "    'Gender',                         \n",
    "    'Age_Category',                   \n",
    "    'Credit_Limit_binned',           \n",
    "    'Income_Category',\n",
    "    'Marital_Status',\n",
    "    'Education_Level',               \n",
    "    'Attrition_Flag'                 \n",
    "]\n",
    "\n",
    "# Create dataset with selected columns\n",
    "data = df[selected_cols].astype(str)\n",
    "\n",
    "# Initialize Hill Climb Search\n",
    "hc = HillClimbSearch(data)\n",
    "\n",
    "# Create blacklist to prevent Attrition_Flag from being a parent\n",
    "blacklist = [(('Attrition_Flag', var)) for var in selected_cols if var != 'Attrition_Flag']\n",
    "\n",
    "# Learn structure with constraints\n",
    "best_model = hc.estimate(\n",
    "    scoring_method='bdeuscore',\n",
    "    black_list=blacklist  # Prevent Attrition_Flag from being a parent\n",
    ")\n",
    "\n",
    "# Create and plot the model\n",
    "model = BayesianNetwork(best_model.edges())\n",
    "\n",
    "# Convert to networkx graph\n",
    "G = nx.DiGraph(best_model.edges())\n",
    "# Node name mapping\n",
    "node_names = {\n",
    "    'Total_Trans_Ct_binned': 'Transaction Count',\n",
    "    'Total_Trans_Amt_binned': 'Transaction Amount',\n",
    "    'Total_Revolving_Bal_binned': 'Revolving Balance',\n",
    "    'Total_Ct_Chng_Q4_Q1_binned': 'Transaction Count Change',\n",
    "    'Contacts_Count_12_mon': 'Contact Count',\n",
    "    'Avg_Utilization_Ratio_binned': 'Card Utilization',\n",
    "    'Months_Inactive_12_mon': 'Inactive Months',\n",
    "    'Total_Amt_Chng_Q4_Q1_binned': 'Amount Change',\n",
    "    'Gender': 'Gender',\n",
    "    'Age_Category': 'Age',\n",
    "    'Credit_Limit_binned': 'Credit Limit',\n",
    "    'Income_Category': 'Income',\n",
    "    'Attrition_Flag': 'Customer Attrition',\n",
    "    'Education_Level': 'Education Level',\n",
    "    'Marital_Status':'Marital Status'\n",
    "}\n",
    "\n",
    "\n",
    "\n",
    "# Create the visualization\n",
    "plt.figure(figsize=(20, 12))\n",
    "\n",
    "# Create hierarchical layout\n",
    "pos = create_hierarchical_layout(G)\n",
    "\n",
    "# Draw edges\n",
    "nx.draw_networkx_edges(G, pos, \n",
    "                      edge_color='gray',\n",
    "                      arrows=True,\n",
    "                      arrowsize=30,\n",
    "                      width=2,\n",
    "                      connectionstyle=\"arc3,rad=0.2\")\n",
    "\n",
    "# Draw nodes\n",
    "node_colors = ['lightcoral' if node == 'Attrition_Flag' else 'lightblue' for node in G.nodes()]\n",
    "nx.draw_networkx_nodes(G, pos,\n",
    "                      node_color=node_colors,\n",
    "                      node_size=5000,\n",
    "                      alpha=0.7)\n",
    "\n",
    "# Add labels with mapped names\n",
    "labels = {node: node_names[node] for node in G.nodes()}\n",
    "nx.draw_networkx_labels(G, pos,\n",
    "                       labels=labels,\n",
    "                       font_size=12,\n",
    "                       font_weight='bold',\n",
    "                       font_family='sans-serif')\n",
    "\n",
    "plt.title(\"Hierarchical Bayesian Network: Factors Influencing Customer Attrition\", \n",
    "          fontsize=16, \n",
    "          pad=20)\n",
    "\n",
    "plt.axis('off')\n",
    "plt.tight_layout(pad=2.0)\n",
    "plt.show()\n",
    "\n",
    "# Print relationships with readable names\n",
    "print(\"\\nHierarchical Relationships in the Network:\")\n",
    "print(\"----------------------------------------\")\n",
    "for edge in model.edges():\n",
    "    print(f\"{node_names[edge[0]]} → {node_names[edge[1]]}\")"
   ]
  },
  {
   "cell_type": "code",
   "execution_count": null,
   "metadata": {},
   "outputs": [],
   "source": []
  }
 ],
 "metadata": {
  "kernelspec": {
   "display_name": "base",
   "language": "python",
   "name": "python3"
  },
  "language_info": {
   "codemirror_mode": {
    "name": "ipython",
    "version": 3
   },
   "file_extension": ".py",
   "mimetype": "text/x-python",
   "name": "python",
   "nbconvert_exporter": "python",
   "pygments_lexer": "ipython3",
   "version": "3.12.7"
  }
 },
 "nbformat": 4,
 "nbformat_minor": 2
}
